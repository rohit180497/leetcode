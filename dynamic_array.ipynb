{
 "cells": [
  {
   "cell_type": "code",
   "execution_count": 6,
   "metadata": {},
   "outputs": [],
   "source": [
    "import sys\n",
    "import ctypes"
   ]
  },
  {
   "cell_type": "code",
   "execution_count": 3,
   "metadata": {},
   "outputs": [],
   "source": [
    "# L = []\n",
    "# for i in range(100):\n",
    "#     print(i, sys.getsizeof(L))\n",
    "#     L.append(i)"
   ]
  },
  {
   "cell_type": "code",
   "execution_count": 287,
   "metadata": {},
   "outputs": [],
   "source": [
    "class MyList():\n",
    "    def __init__(self) -> None:\n",
    "        self.size = 1\n",
    "        self.n = 0\n",
    "        # create a C type array with size = self.size\n",
    "        self.A = self.__create_array(self.size)\n",
    "\n",
    "    def __len__(self): #magic method__\n",
    "        return self.n\n",
    "    \n",
    "    def __str__(self):\n",
    "        # [1,2,3,4]\n",
    "        result = \"\"\n",
    "        for i in range(self.n):\n",
    "            result  = result + str(self.A[i]) + ','\n",
    "\n",
    "        return '['+ result[:-1] + ']'\n",
    "\n",
    "\n",
    "    def __getitem__(self, index):\n",
    "        if 0 >= index <=self.n:\n",
    "            return self.A[index]\n",
    "        else:\n",
    "            return \"IndexError - Index out of range\"\n",
    "        \n",
    "    def __delitem__(self, pos):\n",
    "\n",
    "        if pos < 0 or pos >= self.n:\n",
    "            raise IndexError(\"list index out of range\")\n",
    "        \n",
    "        for i in range(pos, self.n-1):\n",
    "            self.A[i] = self.A[i+1]\n",
    "\n",
    "        self.n  = self.n - 1\n",
    "\n",
    "\n",
    "    def append(self, item):\n",
    "        if self.n == self.size:\n",
    "            #resize\n",
    "            self._resize(self.size*2)\n",
    "        #append\n",
    "        self.A[self.n] = item\n",
    "        self.n = self.n + 1\n",
    "\n",
    "    def pop(self): #remove last elemet form the list\n",
    "        if self.n ==0:\n",
    "            return \"Empty List\"\n",
    "        else:\n",
    "            print(self.A[self.n - 1])\n",
    "            self.n = self.n -1\n",
    "\n",
    "    def clear(self):\n",
    "        if self.n ==0:\n",
    "            return \"Empty List\"\n",
    "        else:\n",
    "            self.n = 0\n",
    "            self.size = 1\n",
    "\n",
    "    def min(self):\n",
    "        if self.n == 0:\n",
    "            raise ValueError(\"The list is empty\")\n",
    "        # self.A = [int(i) for i in self.A]\n",
    "        min = self.A[0]\n",
    "        for i in range(1, self.n):\n",
    "            if self.A[i] < min:\n",
    "                min = self.A[i]\n",
    "        return min\n",
    "\n",
    "    def max(self):\n",
    "        if self.n ==0:\n",
    "            raise ValueError(\"This list is empty\")\n",
    "        max = self.A[0]\n",
    "        for i in range(1, self.n):\n",
    "            if self.A[i]> max:\n",
    "                max = self.A[i]\n",
    "        return max\n",
    "\n",
    "    def sum(self):\n",
    "        if self.n ==0:\n",
    "            raise ValueError(\"This list is empty\")\n",
    "        total = 0\n",
    "        for i in range(self.n):\n",
    "            total += self.A[i]\n",
    "        return total\n",
    "\n",
    "    def sort(self):\n",
    "        for i in range(self.n):\n",
    "            min_idx = i\n",
    "            for j in range(i + 1, self.n):\n",
    "                if self.A[j] < self.A[min_idx]:\n",
    "                    min_idx = j\n",
    "            self.A[i], self.A[min_idx] = self.A[min_idx], self.A[i]\n",
    "        \n",
    "\n",
    "    def find(self, item):\n",
    "        for i in range(self.n):\n",
    "            if self.A[i] == item:\n",
    "                return i\n",
    "        return \"ValueError - Value not in list\"\n",
    "    \n",
    "    def insert(self, pos, item):\n",
    "        if self.n == self.size:\n",
    "            self._resize(self.size*2)\n",
    "        \n",
    "        for i in range(self.n, pos, -1):\n",
    "            self.A[i] = self.A[i-1]\n",
    "        \n",
    "        self.A[pos] = item\n",
    "        self.n = self.n + 1 #since new item is added size will increase so n+1\n",
    "\n",
    "    def remove(self, item):\n",
    "        pos= self.find(item)\n",
    "        if type(pos)== int:\n",
    "            self.__delitem__(pos)\n",
    "        else:\n",
    "            return pos\n",
    "\n",
    "\n",
    "    def _resize(self, new_capacity):\n",
    "        # create a new array with a new capacity\n",
    "        B = self.__create_array(new_capacity)\n",
    "        self.size = new_capacity\n",
    "        # Copy the content of A to B\n",
    "        for i in range(self.n):\n",
    "            B[i] = self.A[i]\n",
    "        # Reassign A\n",
    "        self.A = B\n",
    "\n",
    "\n",
    "    def __create_array(self, capacity):\n",
    "        # this code creates a ctype array (static, referential) with size capacity # \n",
    "        return (capacity* ctypes.py_object)()\n"
   ]
  },
  {
   "cell_type": "code",
   "execution_count": 288,
   "metadata": {},
   "outputs": [],
   "source": [
    "L = MyList()"
   ]
  },
  {
   "cell_type": "code",
   "execution_count": 294,
   "metadata": {},
   "outputs": [],
   "source": [
    "L.append(3)\n",
    "L.append(4)\n",
    "L.append(8)\n",
    "L.append(1)"
   ]
  },
  {
   "cell_type": "code",
   "execution_count": 295,
   "metadata": {},
   "outputs": [
    {
     "data": {
      "text/plain": [
       "7"
      ]
     },
     "execution_count": 295,
     "metadata": {},
     "output_type": "execute_result"
    }
   ],
   "source": [
    "len(L)"
   ]
  },
  {
   "cell_type": "code",
   "execution_count": 298,
   "metadata": {},
   "outputs": [
    {
     "name": "stdout",
     "output_type": "stream",
     "text": [
      "[1,3,3,4,4,8,8]\n"
     ]
    }
   ],
   "source": [
    "print(L)"
   ]
  },
  {
   "cell_type": "code",
   "execution_count": 297,
   "metadata": {},
   "outputs": [],
   "source": [
    "L.sort()"
   ]
  },
  {
   "cell_type": "code",
   "execution_count": 270,
   "metadata": {},
   "outputs": [
    {
     "data": {
      "text/plain": [
       "3"
      ]
     },
     "execution_count": 270,
     "metadata": {},
     "output_type": "execute_result"
    }
   ],
   "source": [
    "L.min()"
   ]
  },
  {
   "cell_type": "code",
   "execution_count": 272,
   "metadata": {},
   "outputs": [
    {
     "data": {
      "text/plain": [
       "15"
      ]
     },
     "execution_count": 272,
     "metadata": {},
     "output_type": "execute_result"
    }
   ],
   "source": [
    "L.sum()"
   ]
  },
  {
   "cell_type": "code",
   "execution_count": 172,
   "metadata": {},
   "outputs": [
    {
     "data": {
      "text/plain": [
       "'IndexError - Index out of range'"
      ]
     },
     "execution_count": 172,
     "metadata": {},
     "output_type": "execute_result"
    }
   ],
   "source": [
    "L[6]"
   ]
  },
  {
   "cell_type": "code",
   "execution_count": 173,
   "metadata": {},
   "outputs": [
    {
     "name": "stdout",
     "output_type": "stream",
     "text": [
      "Hello\n"
     ]
    }
   ],
   "source": [
    "L.pop()"
   ]
  },
  {
   "cell_type": "code",
   "execution_count": 174,
   "metadata": {},
   "outputs": [
    {
     "data": {
      "text/plain": [
       "1"
      ]
     },
     "execution_count": 174,
     "metadata": {},
     "output_type": "execute_result"
    }
   ],
   "source": [
    "# L.clear()\n",
    "L.find(4)"
   ]
  },
  {
   "cell_type": "code",
   "execution_count": 175,
   "metadata": {},
   "outputs": [
    {
     "name": "stdout",
     "output_type": "stream",
     "text": [
      "[3,4]\n"
     ]
    }
   ],
   "source": [
    "print(L)"
   ]
  },
  {
   "cell_type": "code",
   "execution_count": 176,
   "metadata": {},
   "outputs": [],
   "source": [
    "L.insert(1, 100)"
   ]
  },
  {
   "cell_type": "code",
   "execution_count": 177,
   "metadata": {},
   "outputs": [],
   "source": [
    "del L[1]"
   ]
  },
  {
   "cell_type": "code",
   "execution_count": null,
   "metadata": {},
   "outputs": [],
   "source": []
  }
 ],
 "metadata": {
  "kernelspec": {
   "display_name": "Python 3",
   "language": "python",
   "name": "python3"
  },
  "language_info": {
   "codemirror_mode": {
    "name": "ipython",
    "version": 3
   },
   "file_extension": ".py",
   "mimetype": "text/x-python",
   "name": "python",
   "nbconvert_exporter": "python",
   "pygments_lexer": "ipython3",
   "version": "3.10.0"
  }
 },
 "nbformat": 4,
 "nbformat_minor": 2
}
