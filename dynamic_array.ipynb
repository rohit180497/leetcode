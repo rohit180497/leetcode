{
 "cells": [
  {
   "cell_type": "code",
   "execution_count": 6,
   "metadata": {},
   "outputs": [],
   "source": [
    "import sys\n",
    "import ctypes"
   ]
  },
  {
   "cell_type": "code",
   "execution_count": 3,
   "metadata": {},
   "outputs": [],
   "source": [
    "# L = []\n",
    "# for i in range(100):\n",
    "#     print(i, sys.getsizeof(L))\n",
    "#     L.append(i)"
   ]
  },
  {
   "cell_type": "code",
   "execution_count": 67,
   "metadata": {},
   "outputs": [],
   "source": [
    "class MyList():\n",
    "    def __init__(self) -> None:\n",
    "        self.size = 1\n",
    "        self.n = 0\n",
    "        # create a C type array with size = self.size\n",
    "        self.A = self.__create_array(self.size)\n",
    "\n",
    "    def __len__(self): #magic method__\n",
    "        return self.n\n",
    "    \n",
    "    def __str__(self):\n",
    "        # [1,2,3,4]\n",
    "        result = \"\"\n",
    "        for i in range(self.n):\n",
    "            result  = result + str(self.A[i]) + ','\n",
    "\n",
    "        return '['+ result[:-1] + ']'\n",
    "\n",
    "\n",
    "    def __getitem__(self, index):\n",
    "        if 0 >= index <=self.n:\n",
    "            return self.A[index]\n",
    "        else:\n",
    "            return \"IndexError - Index out of range\"\n",
    "\n",
    "\n",
    "    def append(self, item):\n",
    "        if self.n == self.size:\n",
    "            #resize\n",
    "            self._resize(self.size*2)\n",
    "        #append\n",
    "        self.A[self.n] = item\n",
    "        self.n = self.n + 1\n",
    "\n",
    "    def pop(self): #remove last elemet form the list\n",
    "        if self.n ==0:\n",
    "            return \"Empty List\"\n",
    "        else:\n",
    "            print(self.A[self.n - 1])\n",
    "            self.n = self.n -1\n",
    "\n",
    "\n",
    "    def _resize(self, new_capacity):\n",
    "        # create a new array with a new capacity\n",
    "        B = self.__create_array(new_capacity)\n",
    "        self.size = new_capacity\n",
    "        # Copy the content of A to B\n",
    "        for i in range(self.n):\n",
    "            B[i] = self.A[i]\n",
    "        # Reassign A\n",
    "        self.A = B\n",
    "\n",
    "\n",
    "    def __create_array(self, capacity):\n",
    "        # this code creates a ctype array (static, referential) with size capacity # \n",
    "        return (capacity* ctypes.py_object)()\n"
   ]
  },
  {
   "cell_type": "code",
   "execution_count": 68,
   "metadata": {},
   "outputs": [],
   "source": [
    "L = MyList()"
   ]
  },
  {
   "cell_type": "code",
   "execution_count": 69,
   "metadata": {},
   "outputs": [],
   "source": [
    "L.append(3)\n",
    "L.append(4)\n",
    "L.append(\"Hello\")"
   ]
  },
  {
   "cell_type": "code",
   "execution_count": 70,
   "metadata": {},
   "outputs": [
    {
     "data": {
      "text/plain": [
       "3"
      ]
     },
     "execution_count": 70,
     "metadata": {},
     "output_type": "execute_result"
    }
   ],
   "source": [
    "len(L)"
   ]
  },
  {
   "cell_type": "code",
   "execution_count": 74,
   "metadata": {},
   "outputs": [
    {
     "name": "stdout",
     "output_type": "stream",
     "text": [
      "[3,4]\n"
     ]
    }
   ],
   "source": [
    "print(L)"
   ]
  },
  {
   "cell_type": "code",
   "execution_count": 72,
   "metadata": {},
   "outputs": [
    {
     "data": {
      "text/plain": [
       "'IndexError - Index out of range'"
      ]
     },
     "execution_count": 72,
     "metadata": {},
     "output_type": "execute_result"
    }
   ],
   "source": [
    "L[6]"
   ]
  },
  {
   "cell_type": "code",
   "execution_count": 73,
   "metadata": {},
   "outputs": [],
   "source": [
    "L.pop()"
   ]
  },
  {
   "cell_type": "code",
   "execution_count": null,
   "metadata": {},
   "outputs": [],
   "source": []
  }
 ],
 "metadata": {
  "kernelspec": {
   "display_name": "Python 3",
   "language": "python",
   "name": "python3"
  },
  "language_info": {
   "codemirror_mode": {
    "name": "ipython",
    "version": 3
   },
   "file_extension": ".py",
   "mimetype": "text/x-python",
   "name": "python",
   "nbconvert_exporter": "python",
   "pygments_lexer": "ipython3",
   "version": "3.10.0"
  }
 },
 "nbformat": 4,
 "nbformat_minor": 2
}
